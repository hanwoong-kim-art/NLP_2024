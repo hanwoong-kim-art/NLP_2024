{
  "nbformat": 4,
  "nbformat_minor": 0,
  "metadata": {
    "colab": {
      "provenance": [],
      "include_colab_link": true
    },
    "kernelspec": {
      "name": "python3",
      "display_name": "Python 3"
    },
    "language_info": {
      "name": "python"
    }
  },
  "cells": [
    {
      "cell_type": "markdown",
      "metadata": {
        "id": "view-in-github",
        "colab_type": "text"
      },
      "source": [
        "<a href=\"https://colab.research.google.com/github/hanwoong-kim-art/NLP_2024/blob/main/3_Indexing_Slicing.ipynb\" target=\"_parent\"><img src=\"https://colab.research.google.com/assets/colab-badge.svg\" alt=\"Open In Colab\"/></a>"
      ]
    },
    {
      "cell_type": "markdown",
      "source": [
        "# 📌 Indexing of Sequence Data\n",
        "\n",
        "| str data | I |   | l | o | v | e |  | P | y | t | h | o |n | ! |\n",
        "|:---------|:--|:--|:--|:--|:--|:--|:--|:--|:--|:--|:--|:-|:-|:-:|\n",
        "| Forward Indexing | 0 | 1 | 2 | 3 | 4 | 5 | 6 | 7 | 8 | 9 | 10| 11| 12|13|\n",
        "| Backward Indexing|-14| -13| -12| -11| -10| -9| -8| -7| -6| -5| -4| -3| -2|-1|\n",
        "\n",
        "\n",
        "\n",
        "# ✂️ Slicing of List data\n",
        "\n",
        "        👻 You have to deduct one (-1) from the second element (2번째 요소를 |oo 미만|으로 해석한다.  \n",
        "\n",
        "- [:] from the first element to the final element (e.g., 'I love Python!')\n",
        "\n",
        "| str data | I |   | l | o | v | e |  | P | y | t | h | o |n | ! |\n",
        "|:---------|:--|:--|:--|:--|:--|:--|:--|:--|:--|:--|:--|:-|:-|:-:|\n",
        "| Forward Indexing | 0 | 1 | 2 | 3 | 4 | 5 | 6 | 7 | 8 | 9 | 10| 11| 12|13|\n",
        "| Backward Indexing|-14| -13| -12| -11| -10| -9| -8| -7| -6| -5| -4| -3| -2|-1|\n",
        "\n",
        "\n",
        "- [1:5] from Index 1 to Index 4 (e.g., ' love') (5 미만)\n",
        "\n",
        "\n",
        "| str data |   | l | o | v |\n",
        "|:---------|:--|:--|:--|:-:|\n",
        "| Forward Indexing | 1 | 2 | 3 | 4 |\n",
        "\n",
        "\n",
        "- [:5] from Index 0 to Index 4 (e.g., 'I love') (5 미만)\n",
        "\n",
        "\n",
        "| str data | I |   | l | o | v |\n",
        "|:---------|:--|:--|:--|:--|:-:|\n",
        "| Forward Indexing | 0 | 1 | 2 | 3 | 4 |\n",
        "\n",
        "\n",
        "- [5:] from Index 5 to the final element (e.g., 'e Python!')\n",
        "\n",
        "| str data | e |  | P | y | t | h | o |n | ! |\n",
        "|:---------|:--|:--|:--|:--|:--|:--|:-|:-|:-:|\n",
        "| Forward Indexing | 5 | 6 | 7 | 8 | 9 | 10| 11| 12|13|\n",
        "\n",
        "- [:-3] from forward Index 0 to Backward Index -4 (e.g., 'I love Pyth') (-3 미만)\n",
        "\n",
        "| str data | I |   | l | o | v | e |  | P | y | t | h |\n",
        "|:---------|:--|:--|:--|:--|:--|:--|:--|:--|:--|:--|:-:|\n",
        "| Forward Indexing | 0 | 1 | 2 | 3 | 4 | 5 | 6 | 7 | 8 | 9 | 10|\n",
        "| Backward Indexing|-14| -13| -12| -11| -10| -9| -8| -7| -6| -5| -4| -3| -2|-1|\n",
        "\n",
        "- [-3:] from backward Index -3 to the final element (e.g., 'on!')\n",
        "\n",
        "| str data | o |n | ! |\n",
        "|:---------|:-|:-|:-:|\n",
        "| Backward Indexing|-3| -2|-1|\n",
        "\n",
        "\n",
        "- [::2] Every other element from the first element (e.g., 'Ilv yho')\n",
        "\n",
        "| str data | I | l | v |  | y | h | n |\n",
        "|:---------|:--|:--|:--|:--|:--|:--|:-:|\n",
        "| Forward Indexing | 0 | 2 | 4 | 6 | 8 | 10| 12|\n",
        "\n",
        "\n",
        "\n",
        "# ⚾ ⚽ 🏀 🎾 🎯 It is time to get some exercise!"
      ],
      "metadata": {
        "id": "hz0-YwDvaAYj"
      }
    },
    {
      "cell_type": "code",
      "source": [
        "strdata =  \"sooho is the new reperesentative of the freshman year in the DAEC \"\n",
        "\n",
        "print(strdata[7])\n",
        "\n",
        "print(strdata[3])\n",
        "\n",
        "print(strdata[:])"
      ],
      "metadata": {
        "id": "Ph1M_vVjnJFf",
        "outputId": "1bf3b5c2-bf82-4e9e-ece2-a5f25e886fee",
        "colab": {
          "base_uri": "https://localhost:8080/"
        }
      },
      "execution_count": 3,
      "outputs": [
        {
          "output_type": "stream",
          "name": "stdout",
          "text": [
            "s\n",
            "h\n",
            "sooho is the new reperesentative of the freshman year in the DAEC \n"
          ]
        }
      ]
    },
    {
      "cell_type": "code",
      "source": [
        "str_data=\"I love Python\"\n",
        "print(str_data[0])\n",
        "print(str_data[1])\n",
        "print(str_data[2])\n",
        "print(str_data[3])\n",
        "print(str_data[4])\n",
        "print(str_data[5])\n",
        "print(str_data[6])\n",
        "print(str_data[7])\n",
        "print(str_data[8])\n",
        "print(str_data[9])\n",
        "print(str_data[10])\n",
        "print(str_data[11])\n",
        "print(str_data[12])"
      ],
      "metadata": {
        "id": "nQNDMvvUoFhL",
        "outputId": "81f583ff-fb2a-4a80-b637-0b90422ad9fe",
        "colab": {
          "base_uri": "https://localhost:8080/"
        }
      },
      "execution_count": 1,
      "outputs": [
        {
          "output_type": "stream",
          "name": "stdout",
          "text": [
            "I\n",
            " \n",
            "l\n",
            "o\n",
            "v\n",
            "e\n",
            " \n",
            "P\n",
            "y\n",
            "t\n",
            "h\n",
            "o\n",
            "n\n"
          ]
        }
      ]
    },
    {
      "cell_type": "code",
      "source": [
        "#@markdown 📌 Apply indices to string data\n",
        "\n",
        "#@markdown Forward Indexing\n",
        "\n",
        "str_data=\"I love Python\"\n",
        "print(str_data[0])\n",
        "print(str_data[1])\n",
        "print(str_data[2])\n",
        "print(str_data[3])\n",
        "print(str_data[4])\n",
        "print(str_data[5])\n",
        "print(str_data[6])\n",
        "print(str_data[7])\n",
        "print(str_data[8])\n",
        "print(str_data[9])\n",
        "print(str_data[10])\n",
        "print(str_data[11])\n",
        "print(str_data[12])"
      ],
      "metadata": {
        "id": "gdAwjLQIfRej",
        "outputId": "4d4e33d9-9750-429d-d0f9-274a5a968427",
        "colab": {
          "base_uri": "https://localhost:8080/"
        }
      },
      "execution_count": null,
      "outputs": [
        {
          "output_type": "stream",
          "name": "stdout",
          "text": [
            "I\n",
            " \n",
            "l\n",
            "o\n",
            "v\n",
            "e\n",
            " \n",
            "P\n",
            "y\n",
            "t\n",
            "h\n",
            "o\n",
            "n\n"
          ]
        }
      ]
    },
    {
      "cell_type": "code",
      "source": [
        "str_data='I love python'\n",
        "print(str_data[-5])\n",
        "\n",
        "print(str_data[-9])\n",
        "\n",
        "print(str_data[:])\n",
        "\n",
        "str_data[-13]"
      ],
      "metadata": {
        "id": "-vO2YF5fo4-4",
        "outputId": "5118f082-c708-4225-a4a9-846096405e88",
        "colab": {
          "base_uri": "https://localhost:8080/",
          "height": 87
        }
      },
      "execution_count": 11,
      "outputs": [
        {
          "output_type": "stream",
          "name": "stdout",
          "text": [
            "y\n",
            "v\n",
            "I love python\n"
          ]
        },
        {
          "output_type": "execute_result",
          "data": {
            "text/plain": [
              "'I'"
            ],
            "application/vnd.google.colaboratory.intrinsic+json": {
              "type": "string"
            }
          },
          "metadata": {},
          "execution_count": 11
        }
      ]
    },
    {
      "cell_type": "code",
      "source": [
        "#@markdown 📌 Apply indices to string data\n",
        "\n",
        "#@markdown Backward Indexing\n",
        "\n",
        "str_data=\"I love Python\"\n",
        "print(str_data[-1])\n",
        "print(str_data[-2])\n",
        "print(str_data[-3])\n",
        "print(str_data[-4])\n",
        "print(str_data[-5])\n",
        "print(str_data[-6])\n",
        "print(str_data[-7])\n",
        "print(str_data[-8])\n",
        "print(str_data[-9])\n",
        "print(str_data[-10])\n",
        "print(str_data[-11])\n",
        "print(str_data[-12])\n",
        "print(str_data[-13])"
      ],
      "metadata": {
        "id": "3LaeY0POiniS",
        "outputId": "a5ea2aad-abfc-4876-af67-39a6bf20e22e",
        "colab": {
          "base_uri": "https://localhost:8080/"
        }
      },
      "execution_count": null,
      "outputs": [
        {
          "output_type": "stream",
          "name": "stdout",
          "text": [
            "n\n",
            "o\n",
            "h\n",
            "t\n",
            "y\n",
            "P\n",
            " \n",
            "e\n",
            "v\n",
            "o\n",
            "l\n",
            " \n",
            "I\n"
          ]
        }
      ]
    },
    {
      "cell_type": "code",
      "source": [
        "strdata = 'Time is money!!'\n",
        "print(strdata[5])\n",
        "print(strdata[-2])\n",
        "print(strdata[0])"
      ],
      "metadata": {
        "id": "S90zmkNWGdZt",
        "outputId": "b044d5cb-c128-4a99-99c3-384c6e8a7485",
        "colab": {
          "base_uri": "https://localhost:8080/"
        }
      },
      "execution_count": null,
      "outputs": [
        {
          "output_type": "stream",
          "name": "stdout",
          "text": [
            "i\n",
            "!\n",
            "T\n"
          ]
        }
      ]
    },
    {
      "cell_type": "code",
      "source": [
        "mix_data = [1,2,['a', 'b', 'c']]\n",
        "print(mix_data[:])\n",
        "\n",
        "mix_data[0] = 'brunch'\n",
        "print(mix_data[:])\n",
        "\n",
        "print(mix_data[1:])"
      ],
      "metadata": {
        "id": "JEHY8IbTriMo",
        "outputId": "e90a3716-44bd-4fd9-8e23-f6c81a904cdb",
        "colab": {
          "base_uri": "https://localhost:8080/"
        }
      },
      "execution_count": 21,
      "outputs": [
        {
          "output_type": "stream",
          "name": "stdout",
          "text": [
            "[1, 2, ['a', 'b', 'c']]\n",
            "['brunch', 2, ['a', 'b', 'c']]\n",
            "[2, ['a', 'b', 'c']]\n"
          ]
        }
      ]
    },
    {
      "cell_type": "code",
      "source": [
        "listdata = [1, 2, ['a','b','c']]"
      ],
      "metadata": {
        "id": "USi8peL_p46_"
      },
      "execution_count": null,
      "outputs": []
    },
    {
      "cell_type": "code",
      "source": [
        "listdata = [1, 2, [1,2,3]]\n",
        "print(listdata[0])\n",
        "print(listdata[-1])\n",
        "\n",
        "print(listdata[2])\n",
        "print(listdata[2][-1])\n",
        "listdata[2][-1]"
      ],
      "metadata": {
        "id": "he2RS3TgqOWN",
        "outputId": "a856f6ba-dfba-468c-8718-e836a18bdcbc",
        "colab": {
          "base_uri": "https://localhost:8080/"
        }
      },
      "execution_count": 17,
      "outputs": [
        {
          "output_type": "stream",
          "name": "stdout",
          "text": [
            "1\n",
            "[1, 2, 3]\n",
            "[1, 2, 3]\n",
            "3\n"
          ]
        },
        {
          "output_type": "execute_result",
          "data": {
            "text/plain": [
              "3"
            ]
          },
          "metadata": {},
          "execution_count": 17
        }
      ]
    },
    {
      "cell_type": "code",
      "source": [
        "listdata = [1, 2, [1,2,3]]\n",
        "print(listdata[0])\n",
        "print(listdata[-1])\n",
        "print(listdata[2][-1])"
      ],
      "metadata": {
        "id": "zki7vU-sGfHK",
        "outputId": "af0f81b2-a97b-4f6b-8c34-e493e2af1dbf",
        "colab": {
          "base_uri": "https://localhost:8080/"
        }
      },
      "execution_count": 12,
      "outputs": [
        {
          "output_type": "stream",
          "name": "stdout",
          "text": [
            "1\n",
            "[1, 2, 3]\n",
            "3\n"
          ]
        }
      ]
    },
    {
      "cell_type": "code",
      "source": [
        "list_data = ['apple', 'banana', 'grapes', 'mango']\n",
        "tuple_data = ('apple', 'banana', 'grapes', 'mango')\n",
        "\n",
        "print (list_data)\n",
        "print(tuple_data)\n",
        "\n",
        "list_data[-1] = \"blueberry\"\n",
        "print(list_data)\n",
        "\n",
        "tuple_data[-1]= 'blueberry'\n",
        "print(tuple_data)\n"
      ],
      "metadata": {
        "id": "Ntw6fOXytLjo",
        "outputId": "41761d21-8f95-41f7-b4ab-8ed7d4786a11",
        "colab": {
          "base_uri": "https://localhost:8080/",
          "height": 245
        }
      },
      "execution_count": 24,
      "outputs": [
        {
          "output_type": "stream",
          "name": "stdout",
          "text": [
            "['apple', 'banana', 'grapes', 'mango']\n",
            "('apple', 'banana', 'grapes', 'mango')\n",
            "['apple', 'banana', 'grapes', 'blueberry']\n"
          ]
        },
        {
          "output_type": "error",
          "ename": "TypeError",
          "evalue": "'tuple' object does not support item assignment",
          "traceback": [
            "\u001b[0;31m---------------------------------------------------------------------------\u001b[0m",
            "\u001b[0;31mTypeError\u001b[0m                                 Traceback (most recent call last)",
            "\u001b[0;32m<ipython-input-24-fdfaa5624048>\u001b[0m in \u001b[0;36m<cell line: 10>\u001b[0;34m()\u001b[0m\n\u001b[1;32m      8\u001b[0m \u001b[0mprint\u001b[0m\u001b[0;34m(\u001b[0m\u001b[0mlist_data\u001b[0m\u001b[0;34m)\u001b[0m\u001b[0;34m\u001b[0m\u001b[0;34m\u001b[0m\u001b[0m\n\u001b[1;32m      9\u001b[0m \u001b[0;34m\u001b[0m\u001b[0m\n\u001b[0;32m---> 10\u001b[0;31m \u001b[0mtuple_data\u001b[0m\u001b[0;34m[\u001b[0m\u001b[0;34m-\u001b[0m\u001b[0;36m1\u001b[0m\u001b[0;34m]\u001b[0m\u001b[0;34m=\u001b[0m \u001b[0;34m'blueberry'\u001b[0m\u001b[0;34m\u001b[0m\u001b[0;34m\u001b[0m\u001b[0m\n\u001b[0m\u001b[1;32m     11\u001b[0m \u001b[0mprint\u001b[0m\u001b[0;34m(\u001b[0m\u001b[0mtuple_data\u001b[0m\u001b[0;34m)\u001b[0m\u001b[0;34m\u001b[0m\u001b[0;34m\u001b[0m\u001b[0m\n",
            "\u001b[0;31mTypeError\u001b[0m: 'tuple' object does not support item assignment"
          ]
        }
      ]
    },
    {
      "cell_type": "code",
      "execution_count": null,
      "metadata": {
        "colab": {
          "base_uri": "https://localhost:8080/"
        },
        "id": "0mZYBcGxZz0O",
        "outputId": "f33f252d-45b9-4908-ad61-f710cb917d31"
      },
      "outputs": [
        {
          "output_type": "stream",
          "name": "stdout",
          "text": [
            "I love python\n",
            "['apple', 'banana', 'grapes', 'mango']\n",
            "('apple', 'banana', 'grapes', 'mango')\n"
          ]
        }
      ],
      "source": [
        "#@markdown 🚗 🚙 Sequence data (str, list, tuple)\n",
        "\n",
        "#@markdown ##Exercise\n",
        "\n",
        "list_data = ['apple', 'banana', 'grapes', 'mango']\n",
        "tuple_data = ('apple', 'banana', 'grapes', 'mango')\n",
        "\n",
        "print (list_data)\n",
        "print(tuple_data)"
      ]
    },
    {
      "cell_type": "code",
      "source": [
        "#@markdown 📌 Apply indices to List data\n",
        "\n",
        "#@markdown ## Replacment by means of using indices\n",
        "\n",
        "list_data = ['apple', 'banana', 'grapes', 'mango']\n",
        "list_data[0]=\"shine musket\"\n",
        "\n",
        "print (list_data)"
      ],
      "metadata": {
        "id": "a7fl8AK3jCTR",
        "outputId": "166e4934-b6e9-4fcc-b5c5-030d5c46738f",
        "colab": {
          "base_uri": "https://localhost:8080/"
        }
      },
      "execution_count": null,
      "outputs": [
        {
          "output_type": "stream",
          "name": "stdout",
          "text": [
            "['shine musket', 'banana', 'grapes', 'mango']\n"
          ]
        }
      ]
    },
    {
      "cell_type": "code",
      "source": [
        "#@markdown 👀 Apply indices to Tupple data\n",
        "\n",
        "#@markdown ### No Replacement for Tuple data (<font color = 'red'> TypeError</font> will pop up: <font color = 'red'>'tuple' object does not support item assignment)\n",
        "\n",
        "tuple_data = ('apple', 'banana', 'grapes', 'mango')\n",
        "tuple_data[0]=\"shine musket\"\n",
        "\n",
        "print (tuple_data)"
      ],
      "metadata": {
        "id": "u6Z0sSltvXSQ",
        "outputId": "2bcd9d79-b04d-44c9-9729-acae3a582548",
        "colab": {
          "base_uri": "https://localhost:8080/",
          "height": 236
        }
      },
      "execution_count": null,
      "outputs": [
        {
          "output_type": "error",
          "ename": "TypeError",
          "evalue": "ignored",
          "traceback": [
            "\u001b[0;31m---------------------------------------------------------------------------\u001b[0m",
            "\u001b[0;31mTypeError\u001b[0m                                 Traceback (most recent call last)",
            "\u001b[0;32m<ipython-input-9-7e8f143f0164>\u001b[0m in \u001b[0;36m<cell line: 6>\u001b[0;34m()\u001b[0m\n\u001b[1;32m      4\u001b[0m \u001b[0;34m\u001b[0m\u001b[0m\n\u001b[1;32m      5\u001b[0m \u001b[0mtuple_data\u001b[0m \u001b[0;34m=\u001b[0m \u001b[0;34m(\u001b[0m\u001b[0;34m'apple'\u001b[0m\u001b[0;34m,\u001b[0m \u001b[0;34m'banana'\u001b[0m\u001b[0;34m,\u001b[0m \u001b[0;34m'grapes'\u001b[0m\u001b[0;34m,\u001b[0m \u001b[0;34m'mango'\u001b[0m\u001b[0;34m)\u001b[0m\u001b[0;34m\u001b[0m\u001b[0;34m\u001b[0m\u001b[0m\n\u001b[0;32m----> 6\u001b[0;31m \u001b[0mtuple_data\u001b[0m\u001b[0;34m[\u001b[0m\u001b[0;36m0\u001b[0m\u001b[0;34m]\u001b[0m\u001b[0;34m=\u001b[0m\u001b[0;34m\"shine musket\"\u001b[0m\u001b[0;34m\u001b[0m\u001b[0;34m\u001b[0m\u001b[0m\n\u001b[0m\u001b[1;32m      7\u001b[0m \u001b[0;34m\u001b[0m\u001b[0m\n\u001b[1;32m      8\u001b[0m \u001b[0mprint\u001b[0m \u001b[0;34m(\u001b[0m\u001b[0mtuple_data\u001b[0m\u001b[0;34m)\u001b[0m\u001b[0;34m\u001b[0m\u001b[0;34m\u001b[0m\u001b[0m\n",
            "\u001b[0;31mTypeError\u001b[0m: 'tuple' object does not support item assignment"
          ]
        }
      ]
    },
    {
      "cell_type": "markdown",
      "source": [
        "동"
      ],
      "metadata": {
        "id": "54DWJiSFvrVQ"
      }
    },
    {
      "cell_type": "code",
      "source": [
        "list = 'abcdefghijkmnopqrstuwxyz'\n",
        "print(len(list))\n",
        "\n",
        "print(list[:])\n",
        "print(list[::2])\n",
        "print(list[::3])\n",
        "print(list[1:25])"
      ],
      "metadata": {
        "id": "OstOdNGhvIF4",
        "outputId": "86a463a7-a0b4-4d2e-d352-a3104cff351d",
        "colab": {
          "base_uri": "https://localhost:8080/"
        }
      },
      "execution_count": 32,
      "outputs": [
        {
          "output_type": "stream",
          "name": "stdout",
          "text": [
            "24\n",
            "abcdefghijkmnopqrstuwxyz\n",
            "acegiknprtwy\n",
            "adgjnqtx\n",
            "bcdefghijkmnopqrstuwxyz\n"
          ]
        }
      ]
    },
    {
      "cell_type": "code",
      "source": [
        "#@markdown Slice sequence data\n",
        "\n",
        "str_data = 'Time is money!!'\n",
        "print(str_data[1:5])\n",
        "print(str_data[:7])\n",
        "print(str_data[9:])\n",
        "print(str_data[:-3])\n",
        "print(str_data[-3:])\n",
        "print(str_data[:])\n",
        "print(str_data[::2]) # 처음부터 끝까지 스텝을 2로 해서 슬라이싱 하기."
      ],
      "metadata": {
        "id": "gsv43biRGwT1",
        "outputId": "572ea240-9ae5-41c9-b1a7-676e68511762",
        "colab": {
          "base_uri": "https://localhost:8080/"
        }
      },
      "execution_count": null,
      "outputs": [
        {
          "output_type": "stream",
          "name": "stdout",
          "text": [
            "ime \n",
            "Time is\n",
            "oney!!\n",
            "Time is mone\n",
            "y!!\n",
            "Time is money!!\n",
            "Tm smny!\n"
          ]
        }
      ]
    },
    {
      "cell_type": "markdown",
      "source": [
        "#시퀀스 자료 연결하기 (+)\n",
        "  -자료형이 동일한 두 개의 시퀀스 자료는 연결 가능\n",
        "  \n",
        "\n",
        "#시퀀스 자료 반복하기 (*숫자)"
      ],
      "metadata": {
        "id": "M_oQWafaH5Sf"
      }
    },
    {
      "cell_type": "code",
      "source": [
        "strdata1 = 'I love '; strdata2='python'; strdata3=''\n",
        "print(strdata1 + strdata2 + strdata3)"
      ],
      "metadata": {
        "id": "w5e6ndW_zF9Z",
        "outputId": "51b2cbbf-65ec-464c-a3bc-b6f2b8564faa",
        "colab": {
          "base_uri": "https://localhost:8080/"
        }
      },
      "execution_count": 39,
      "outputs": [
        {
          "output_type": "stream",
          "name": "stdout",
          "text": [
            "I love python\n"
          ]
        }
      ]
    },
    {
      "cell_type": "code",
      "source": [
        "strdata1 = 'I love'; strdata2='Python'\n",
        "print (strdata1 + strdata2)\n",
        "print(strdata1*5)"
      ],
      "metadata": {
        "id": "9f7DeKbGIN4g",
        "outputId": "2778197c-3fac-4d6c-921e-c792ae99eeb3",
        "colab": {
          "base_uri": "https://localhost:8080/",
          "height": 176
        }
      },
      "execution_count": 38,
      "outputs": [
        {
          "output_type": "error",
          "ename": "NameError",
          "evalue": "name 'strdata3' is not defined",
          "traceback": [
            "\u001b[0;31m---------------------------------------------------------------------------\u001b[0m",
            "\u001b[0;31mNameError\u001b[0m                                 Traceback (most recent call last)",
            "\u001b[0;32m<ipython-input-38-5964190daa2d>\u001b[0m in \u001b[0;36m<cell line: 2>\u001b[0;34m()\u001b[0m\n\u001b[1;32m      1\u001b[0m \u001b[0mstrdata1\u001b[0m \u001b[0;34m=\u001b[0m \u001b[0;34m'I love'\u001b[0m\u001b[0;34m;\u001b[0m \u001b[0mstrdata2\u001b[0m\u001b[0;34m=\u001b[0m\u001b[0;34m'Python'\u001b[0m\u001b[0;34m\u001b[0m\u001b[0;34m\u001b[0m\u001b[0m\n\u001b[0;32m----> 2\u001b[0;31m \u001b[0mprint\u001b[0m \u001b[0;34m(\u001b[0m\u001b[0mstrdata1\u001b[0m \u001b[0;34m+\u001b[0m \u001b[0mstrdata2\u001b[0m \u001b[0;34m+\u001b[0m \u001b[0mstrdata3\u001b[0m\u001b[0;34m)\u001b[0m\u001b[0;34m\u001b[0m\u001b[0;34m\u001b[0m\u001b[0m\n\u001b[0m\u001b[1;32m      3\u001b[0m \u001b[0mprint\u001b[0m\u001b[0;34m(\u001b[0m\u001b[0mstrdata1\u001b[0m\u001b[0;34m*\u001b[0m\u001b[0;36m5\u001b[0m\u001b[0;34m)\u001b[0m\u001b[0;34m\u001b[0m\u001b[0;34m\u001b[0m\u001b[0m\n",
            "\u001b[0;31mNameError\u001b[0m: name 'strdata3' is not defined"
          ]
        }
      ]
    },
    {
      "cell_type": "markdown",
      "source": [
        "###  👀 🐾 **Make a wild guess how to <font color = 'red'> add space</font> between 'love' and 'Python.'**"
      ],
      "metadata": {
        "id": "KVg9q5iWqAlN"
      }
    },
    {
      "cell_type": "code",
      "source": [
        "#@markdown 💊 **Possibility 1️⃣ 💡**\n",
        "\n",
        "strdata1 = 'I love '; strdata2='Python'\n",
        "print (strdata1 + strdata2)"
      ],
      "metadata": {
        "cellView": "form",
        "id": "rknO5rNWqMN_"
      },
      "execution_count": null,
      "outputs": []
    },
    {
      "cell_type": "code",
      "source": [
        "#@markdown 💊 **Possibility 2️⃣ 💡**\n",
        "\n",
        "strdata1 = 'I love '; strdata2=' Python'\n",
        "print (strdata1 + strdata2)"
      ],
      "metadata": {
        "cellView": "form",
        "id": "KFsPImzMrW05"
      },
      "execution_count": null,
      "outputs": []
    },
    {
      "cell_type": "code",
      "source": [
        "#@markdown 💊 **Possibility 3️⃣ 💡**\n",
        "\n",
        "strdata1 = 'I love'; strdata0 = ' '; strdata2='Python'\n",
        "print (strdata1 + strdata0 + strdata2)"
      ],
      "metadata": {
        "cellView": "form",
        "id": "guhCjTVJrmyh"
      },
      "execution_count": null,
      "outputs": []
    },
    {
      "cell_type": "code",
      "source": [
        "subject = 'BTS'; verb= 'sings'; object = 'butter'\n",
        "sentence = subject + verb + object * 5\n",
        "print (sentence)\n"
      ],
      "metadata": {
        "id": "4Cx2C_BTIpQy",
        "outputId": "1c453f45-b523-431b-d239-5300dcfdf0b7",
        "colab": {
          "base_uri": "https://localhost:8080/"
        }
      },
      "execution_count": null,
      "outputs": [
        {
          "output_type": "stream",
          "name": "stdout",
          "text": [
            "BTSsingsbutterbutterbutterbutterbutter\n"
          ]
        }
      ]
    },
    {
      "cell_type": "code",
      "source": [
        "#@markdown 💊 Possibility 1️⃣ 💡\n",
        "\n",
        "subject = 'BTS '; verb= 'sings '; object = 'butter'\n",
        "sentence = subject + verb + object * 5"
      ],
      "metadata": {
        "id": "fvOfcWA9uOfJ"
      },
      "execution_count": null,
      "outputs": []
    },
    {
      "cell_type": "code",
      "source": [
        "#@markdown 시퀀스 자료 크기 이해하기 (len)\n",
        "\n",
        "str_data = 'I love Python'\n",
        "print(len(str_data))"
      ],
      "metadata": {
        "id": "-Y7LAfeXKDsO",
        "outputId": "b362da3c-074a-4835-a269-18c6d2aa21bc",
        "colab": {
          "base_uri": "https://localhost:8080/"
        }
      },
      "execution_count": null,
      "outputs": [
        {
          "output_type": "stream",
          "name": "stdout",
          "text": [
            "13\n"
          ]
        }
      ]
    }
  ]
}